{
 "cells": [
  {
   "cell_type": "markdown",
   "metadata": {},
   "source": [
    "## Desafio de Deduplicação dos dados"
   ]
  },
  {
   "cell_type": "code",
   "execution_count": 1,
   "metadata": {},
   "outputs": [],
   "source": [
    "# Import e inicialização do Spark\n",
    "import findspark\n",
    "findspark.init()"
   ]
  },
  {
   "cell_type": "markdown",
   "metadata": {},
   "source": [
    "### Import dependencias"
   ]
  },
  {
   "cell_type": "code",
   "execution_count": 2,
   "metadata": {},
   "outputs": [],
   "source": [
    "from pyspark.sql import SparkSession, Row\n",
    "from pyspark.sql.functions import collect_list\n",
    "from pyspark.sql.types import (\n",
    "    IntegerType,\n",
    "    TimestampType,\n",
    "    StringType,\n",
    "    StructType,\n",
    "    StructField,\n",
    ")\n",
    "\n",
    "spark = (\n",
    "    SparkSession.builder.master(\"local\").appName(\"challenge-dedup-data\").getOrCreate()\n",
    ")"
   ]
  },
  {
   "cell_type": "markdown",
   "metadata": {},
   "source": [
    "### Criando o Schema e carregando o DataSet"
   ]
  },
  {
   "cell_type": "code",
   "execution_count": 3,
   "metadata": {},
   "outputs": [],
   "source": [
    "schema = StructType(\n",
    "    [\n",
    "        StructField(\"id\", IntegerType(), True),\n",
    "        StructField(\"name\", StringType(), True),\n",
    "        StructField(\"email\", StringType(), True),\n",
    "        StructField(\"phone\", StringType(), True),\n",
    "        StructField(\"address\", StringType(), True),\n",
    "        StructField(\"age\", IntegerType(), True),\n",
    "        StructField(\"create_date\", TimestampType(), True),\n",
    "        StructField(\"update_date\", TimestampType(), True),\n",
    "    ]\n",
    ")\n",
    "\n",
    "dataset = (\n",
    "    spark.read.option(\"header\", True)\n",
    "    .option(\"inferSchema\", \"true\")\n",
    "    .schema(schema)\n",
    "    .csv(\"./data/input/users/\")\n",
    ")"
   ]
  },
  {
   "cell_type": "code",
   "execution_count": 4,
   "metadata": {},
   "outputs": [
    {
     "name": "stdout",
     "output_type": "stream",
     "text": [
      "root\n",
      " |-- id: integer (nullable = true)\n",
      " |-- name: string (nullable = true)\n",
      " |-- email: string (nullable = true)\n",
      " |-- phone: string (nullable = true)\n",
      " |-- address: string (nullable = true)\n",
      " |-- age: integer (nullable = true)\n",
      " |-- create_date: timestamp (nullable = true)\n",
      " |-- update_date: timestamp (nullable = true)\n",
      "\n"
     ]
    }
   ],
   "source": [
    "dataset.printSchema()"
   ]
  },
  {
   "cell_type": "markdown",
   "metadata": {},
   "source": [
    "### Realizando o Dedup"
   ]
  },
  {
   "cell_type": "code",
   "execution_count": 5,
   "metadata": {},
   "outputs": [],
   "source": [
    "dataset_dedup = (\n",
    "    dataset.orderBy(\"update_date\", ascending=False)\n",
    "    .groupBy(\"id\", \"create_date\")\n",
    "    .agg(\n",
    "        collect_list(\"name\").alias(\"l_name\"),\n",
    "        collect_list(\"email\").alias(\"l_email\"),\n",
    "        collect_list(\"phone\").alias(\"l_phone\"),\n",
    "        collect_list(\"address\").alias(\"l_address\"),\n",
    "        collect_list(\"age\").alias(\"l_age\"),\n",
    "        collect_list(\"update_date\").alias(\"l_update_date\"),\n",
    "    )\n",
    ")"
   ]
  },
  {
   "cell_type": "code",
   "execution_count": 6,
   "metadata": {},
   "outputs": [
    {
     "name": "stdout",
     "output_type": "stream",
     "text": [
      "+---+--------------------+--------------------+--------------------+--------------------+--------------------+------------+--------------------+\n",
      "| id|         create_date|              l_name|             l_email|             l_phone|           l_address|       l_age|       l_update_date|\n",
      "+---+--------------------+--------------------+--------------------+--------------------+--------------------+------------+--------------------+\n",
      "|  1|2018-03-03 18:47:...|[david.lynch@cogn...|[David Lynch, Dav...|[(11) 99999-9999,...|[Mulholland Drive...|[72, 72, 72]|[2018-05-23 10:13...|\n",
      "|  3|2018-05-19 04:07:...|[spongebob.square...|[Spongebob Square...|[(11) 98765-4321,...|[122 Conch Street...|    [13, 13]|[2018-05-19 05:08...|\n",
      "|  2|2018-04-21 20:21:...|[sherlock.holmes@...|   [Sherlock Holmes]|   [(11) 94815-1623]|[221B Baker Stree...|        [34]|[2018-04-21 20:21...|\n",
      "+---+--------------------+--------------------+--------------------+--------------------+--------------------+------------+--------------------+\n",
      "\n"
     ]
    }
   ],
   "source": [
    "dataset_dedup.show(n=5)"
   ]
  },
  {
   "cell_type": "code",
   "execution_count": 7,
   "metadata": {},
   "outputs": [],
   "source": [
    "dataset_dedup = spark.createDataFrame(\n",
    "    data=[\n",
    "        Row(\n",
    "            **dict(\n",
    "                [\n",
    "                    (key.replace(\"l_\", \"\"), value[0])\n",
    "                    for key, value in row.asDict().items()\n",
    "                    if \"l_\" in key\n",
    "                ],\n",
    "                id=row[\"id\"],\n",
    "                create_date=row[\"create_date\"],\n",
    "            )\n",
    "        )\n",
    "        for row in dataset_dedup.collect()\n",
    "    ]\n",
    ")"
   ]
  },
  {
   "cell_type": "markdown",
   "metadata": {},
   "source": [
    "### Persistindo o DataSet final em parquet"
   ]
  },
  {
   "cell_type": "code",
   "execution_count": 8,
   "metadata": {},
   "outputs": [],
   "source": [
    "dataset_dedup.write.mode('overwrite').parquet('./data/output/users')"
   ]
  }
 ],
 "metadata": {
  "kernelspec": {
   "display_name": "Python 3",
   "language": "python",
   "name": "python3"
  },
  "language_info": {
   "codemirror_mode": {
    "name": "ipython",
    "version": 3
   },
   "file_extension": ".py",
   "mimetype": "text/x-python",
   "name": "python",
   "nbconvert_exporter": "python",
   "pygments_lexer": "ipython3",
   "version": "3.7.5"
  }
 },
 "nbformat": 4,
 "nbformat_minor": 4
}
